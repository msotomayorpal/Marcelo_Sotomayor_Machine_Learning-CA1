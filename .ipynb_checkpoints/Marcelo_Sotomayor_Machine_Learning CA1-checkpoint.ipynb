{
 "cells": [
  {
   "cell_type": "markdown",
   "id": "1123ae85-c957-4f4f-bd17-ef9b2240cfba",
   "metadata": {},
   "source": [
    "# Exploratory Data Analysis (EDA) and data cleaning\n"
   ]
  },
  {
   "cell_type": "code",
   "execution_count": 1,
   "id": "6bb7b174-10c1-4db3-bbe4-34c7b1f77805",
   "metadata": {},
   "outputs": [],
   "source": [
    "# import of main libraries\n",
    "\n",
    "import pandas as pd\n",
    "import numpy as np\n",
    "import seaborn as sns \n",
    "import matplotlib.pyplot as plt \n",
    "%matplotlib inline\n",
    "sns.set(color_codes=True)\n",
    "import warnings\n",
    "warnings.filterwarnings('ignore')"
   ]
  },
  {
   "cell_type": "code",
   "execution_count": 2,
   "id": "045143a9-65fe-4c5a-b666-674696646a05",
   "metadata": {},
   "outputs": [],
   "source": [
    "df = pd.read_csv(\"student-lpor.csv\")"
   ]
  },
  {
   "cell_type": "code",
   "execution_count": 3,
   "id": "aa08dedf-528c-4c9f-9702-93a4aa028bf5",
   "metadata": {},
   "outputs": [
    {
     "data": {
      "text/plain": [
       "(649, 31)"
      ]
     },
     "execution_count": 3,
     "metadata": {},
     "output_type": "execute_result"
    }
   ],
   "source": [
    "df.shape"
   ]
  },
  {
   "cell_type": "code",
   "execution_count": 4,
   "id": "7fda9087-ee8b-403d-8f8e-fe57865acf81",
   "metadata": {},
   "outputs": [
    {
     "data": {
      "text/html": [
       "<div>\n",
       "<style scoped>\n",
       "    .dataframe tbody tr th:only-of-type {\n",
       "        vertical-align: middle;\n",
       "    }\n",
       "\n",
       "    .dataframe tbody tr th {\n",
       "        vertical-align: top;\n",
       "    }\n",
       "\n",
       "    .dataframe thead th {\n",
       "        text-align: right;\n",
       "    }\n",
       "</style>\n",
       "<table border=\"1\" class=\"dataframe\">\n",
       "  <thead>\n",
       "    <tr style=\"text-align: right;\">\n",
       "      <th></th>\n",
       "      <th>school</th>\n",
       "      <th>sex</th>\n",
       "      <th>age</th>\n",
       "      <th>address</th>\n",
       "      <th>famsize</th>\n",
       "      <th>Pstatus</th>\n",
       "      <th>Medu</th>\n",
       "      <th>Fedu</th>\n",
       "      <th>Mjob</th>\n",
       "      <th>Fjob</th>\n",
       "      <th>...</th>\n",
       "      <th>romantic</th>\n",
       "      <th>famrel</th>\n",
       "      <th>freetime</th>\n",
       "      <th>goout</th>\n",
       "      <th>Dalc</th>\n",
       "      <th>Walc</th>\n",
       "      <th>health</th>\n",
       "      <th>absences</th>\n",
       "      <th>G1</th>\n",
       "      <th>G2</th>\n",
       "    </tr>\n",
       "  </thead>\n",
       "  <tbody>\n",
       "    <tr>\n",
       "      <th>0</th>\n",
       "      <td>GP</td>\n",
       "      <td>F</td>\n",
       "      <td>18</td>\n",
       "      <td>U</td>\n",
       "      <td>GT3</td>\n",
       "      <td>A</td>\n",
       "      <td>4</td>\n",
       "      <td>4</td>\n",
       "      <td>at_home</td>\n",
       "      <td>teacher</td>\n",
       "      <td>...</td>\n",
       "      <td>no</td>\n",
       "      <td>4</td>\n",
       "      <td>3</td>\n",
       "      <td>4</td>\n",
       "      <td>1</td>\n",
       "      <td>1</td>\n",
       "      <td>3</td>\n",
       "      <td>4</td>\n",
       "      <td>0</td>\n",
       "      <td>11</td>\n",
       "    </tr>\n",
       "    <tr>\n",
       "      <th>1</th>\n",
       "      <td>GP</td>\n",
       "      <td>F</td>\n",
       "      <td>17</td>\n",
       "      <td>U</td>\n",
       "      <td>GT3</td>\n",
       "      <td>T</td>\n",
       "      <td>1</td>\n",
       "      <td>1</td>\n",
       "      <td>at_home</td>\n",
       "      <td>other</td>\n",
       "      <td>...</td>\n",
       "      <td>no</td>\n",
       "      <td>5</td>\n",
       "      <td>3</td>\n",
       "      <td>3</td>\n",
       "      <td>1</td>\n",
       "      <td>1</td>\n",
       "      <td>3</td>\n",
       "      <td>2</td>\n",
       "      <td>9</td>\n",
       "      <td>11</td>\n",
       "    </tr>\n",
       "    <tr>\n",
       "      <th>2</th>\n",
       "      <td>GP</td>\n",
       "      <td>F</td>\n",
       "      <td>15</td>\n",
       "      <td>U</td>\n",
       "      <td>LE3</td>\n",
       "      <td>T</td>\n",
       "      <td>1</td>\n",
       "      <td>1</td>\n",
       "      <td>at_home</td>\n",
       "      <td>other</td>\n",
       "      <td>...</td>\n",
       "      <td>no</td>\n",
       "      <td>4</td>\n",
       "      <td>3</td>\n",
       "      <td>2</td>\n",
       "      <td>2</td>\n",
       "      <td>3</td>\n",
       "      <td>3</td>\n",
       "      <td>6</td>\n",
       "      <td>12</td>\n",
       "      <td>13</td>\n",
       "    </tr>\n",
       "    <tr>\n",
       "      <th>3</th>\n",
       "      <td>GP</td>\n",
       "      <td>F</td>\n",
       "      <td>15</td>\n",
       "      <td>U</td>\n",
       "      <td>GT3</td>\n",
       "      <td>T</td>\n",
       "      <td>4</td>\n",
       "      <td>2</td>\n",
       "      <td>health</td>\n",
       "      <td>services</td>\n",
       "      <td>...</td>\n",
       "      <td>yes</td>\n",
       "      <td>3</td>\n",
       "      <td>2</td>\n",
       "      <td>2</td>\n",
       "      <td>1</td>\n",
       "      <td>1</td>\n",
       "      <td>5</td>\n",
       "      <td>0</td>\n",
       "      <td>14</td>\n",
       "      <td>14</td>\n",
       "    </tr>\n",
       "    <tr>\n",
       "      <th>4</th>\n",
       "      <td>GP</td>\n",
       "      <td>F</td>\n",
       "      <td>16</td>\n",
       "      <td>U</td>\n",
       "      <td>GT3</td>\n",
       "      <td>T</td>\n",
       "      <td>3</td>\n",
       "      <td>3</td>\n",
       "      <td>other</td>\n",
       "      <td>other</td>\n",
       "      <td>...</td>\n",
       "      <td>no</td>\n",
       "      <td>4</td>\n",
       "      <td>3</td>\n",
       "      <td>2</td>\n",
       "      <td>1</td>\n",
       "      <td>2</td>\n",
       "      <td>5</td>\n",
       "      <td>0</td>\n",
       "      <td>11</td>\n",
       "      <td>13</td>\n",
       "    </tr>\n",
       "  </tbody>\n",
       "</table>\n",
       "<p>5 rows × 31 columns</p>\n",
       "</div>"
      ],
      "text/plain": [
       "  school sex  age address famsize Pstatus  Medu  Fedu     Mjob      Fjob  ...  \\\n",
       "0     GP   F   18       U     GT3       A     4     4  at_home   teacher  ...   \n",
       "1     GP   F   17       U     GT3       T     1     1  at_home     other  ...   \n",
       "2     GP   F   15       U     LE3       T     1     1  at_home     other  ...   \n",
       "3     GP   F   15       U     GT3       T     4     2   health  services  ...   \n",
       "4     GP   F   16       U     GT3       T     3     3    other     other  ...   \n",
       "\n",
       "  romantic famrel  freetime  goout Dalc Walc health absences  G1  G2  \n",
       "0       no      4         3      4    1    1      3        4   0  11  \n",
       "1       no      5         3      3    1    1      3        2   9  11  \n",
       "2       no      4         3      2    2    3      3        6  12  13  \n",
       "3      yes      3         2      2    1    1      5        0  14  14  \n",
       "4       no      4         3      2    1    2      5        0  11  13  \n",
       "\n",
       "[5 rows x 31 columns]"
      ]
     },
     "execution_count": 4,
     "metadata": {},
     "output_type": "execute_result"
    }
   ],
   "source": [
    "df.head()"
   ]
  },
  {
   "cell_type": "code",
   "execution_count": 5,
   "id": "03228d34-8c2d-496e-81a0-05bc04b4e87a",
   "metadata": {},
   "outputs": [
    {
     "name": "stdout",
     "output_type": "stream",
     "text": [
      "<class 'pandas.core.frame.DataFrame'>\n",
      "RangeIndex: 649 entries, 0 to 648\n",
      "Data columns (total 31 columns):\n",
      " #   Column      Non-Null Count  Dtype \n",
      "---  ------      --------------  ----- \n",
      " 0   school      649 non-null    object\n",
      " 1   sex         649 non-null    object\n",
      " 2   age         649 non-null    int64 \n",
      " 3   address     649 non-null    object\n",
      " 4   famsize     649 non-null    object\n",
      " 5   Pstatus     649 non-null    object\n",
      " 6   Medu        649 non-null    int64 \n",
      " 7   Fedu        649 non-null    int64 \n",
      " 8   Mjob        649 non-null    object\n",
      " 9   Fjob        649 non-null    object\n",
      " 10  reason      649 non-null    object\n",
      " 11  guardian    649 non-null    object\n",
      " 12  traveltime  649 non-null    int64 \n",
      " 13  studytime   649 non-null    int64 \n",
      " 14  schoolsup   649 non-null    object\n",
      " 15  famsup      649 non-null    object\n",
      " 16  paid        649 non-null    object\n",
      " 17  activities  649 non-null    object\n",
      " 18  nursery     649 non-null    object\n",
      " 19  higher      649 non-null    object\n",
      " 20  internet    649 non-null    object\n",
      " 21  romantic    649 non-null    object\n",
      " 22  famrel      649 non-null    int64 \n",
      " 23  freetime    649 non-null    int64 \n",
      " 24  goout       649 non-null    int64 \n",
      " 25  Dalc        649 non-null    int64 \n",
      " 26  Walc        649 non-null    int64 \n",
      " 27  health      649 non-null    int64 \n",
      " 28  absences    649 non-null    int64 \n",
      " 29  G1          649 non-null    int64 \n",
      " 30  G2          649 non-null    int64 \n",
      "dtypes: int64(14), object(17)\n",
      "memory usage: 157.3+ KB\n"
     ]
    }
   ],
   "source": [
    "df.info()"
   ]
  },
  {
   "cell_type": "markdown",
   "id": "be81c16b-48b4-47fa-a1f3-f30a7de895ce",
   "metadata": {},
   "source": [
    "Continuing the exploration, The dataset has 649 observations and 30 features, with numbers, decimals and objects included"
   ]
  },
  {
   "cell_type": "code",
   "execution_count": 6,
   "id": "74c66bfd-37ff-4243-9f1f-e1535d3171bd",
   "metadata": {},
   "outputs": [
    {
     "data": {
      "text/plain": [
       "school        649\n",
       "sex           649\n",
       "age           649\n",
       "address       649\n",
       "famsize       649\n",
       "Pstatus       649\n",
       "Medu          649\n",
       "Fedu          649\n",
       "Mjob          649\n",
       "Fjob          649\n",
       "reason        649\n",
       "guardian      649\n",
       "traveltime    649\n",
       "studytime     649\n",
       "schoolsup     649\n",
       "famsup        649\n",
       "paid          649\n",
       "activities    649\n",
       "nursery       649\n",
       "higher        649\n",
       "internet      649\n",
       "romantic      649\n",
       "famrel        649\n",
       "freetime      649\n",
       "goout         649\n",
       "Dalc          649\n",
       "Walc          649\n",
       "health        649\n",
       "absences      649\n",
       "G1            649\n",
       "G2            649\n",
       "dtype: int64"
      ]
     },
     "execution_count": 6,
     "metadata": {},
     "output_type": "execute_result"
    }
   ],
   "source": [
    "# let's count the number of observations per feature\n",
    "\n",
    "df.count()"
   ]
  },
  {
   "cell_type": "markdown",
   "id": "5a4a3df8-4da0-4e08-b747-2e79cff1ff48",
   "metadata": {},
   "source": [
    "Apparently, there are not missing values due, but let's check."
   ]
  },
  {
   "cell_type": "code",
   "execution_count": 7,
   "id": "ed7d8bbd-49b8-4728-bcd6-99891997ce8a",
   "metadata": {},
   "outputs": [
    {
     "name": "stdout",
     "output_type": "stream",
     "text": [
      "school        0\n",
      "sex           0\n",
      "age           0\n",
      "address       0\n",
      "famsize       0\n",
      "Pstatus       0\n",
      "Medu          0\n",
      "Fedu          0\n",
      "Mjob          0\n",
      "Fjob          0\n",
      "reason        0\n",
      "guardian      0\n",
      "traveltime    0\n",
      "studytime     0\n",
      "schoolsup     0\n",
      "famsup        0\n",
      "paid          0\n",
      "activities    0\n",
      "nursery       0\n",
      "higher        0\n",
      "internet      0\n",
      "romantic      0\n",
      "famrel        0\n",
      "freetime      0\n",
      "goout         0\n",
      "Dalc          0\n",
      "Walc          0\n",
      "health        0\n",
      "absences      0\n",
      "G1            0\n",
      "G2            0\n",
      "dtype: int64\n"
     ]
    }
   ],
   "source": [
    "# Finding missing values\n",
    "\n",
    "print (df.isnull().sum())"
   ]
  },
  {
   "cell_type": "code",
   "execution_count": 8,
   "id": "f5f33cfc-a81d-4e60-b289-c4834fd75c1f",
   "metadata": {},
   "outputs": [
    {
     "data": {
      "text/plain": [
       "(0, 31)"
      ]
     },
     "execution_count": 8,
     "metadata": {},
     "output_type": "execute_result"
    }
   ],
   "source": [
    "# Checking for duplicates\n",
    "\n",
    "duplicate_rows_df = df[df.duplicated()]\n",
    "duplicate_rows_df.shape"
   ]
  },
  {
   "cell_type": "code",
   "execution_count": 9,
   "id": "a82dadb8-84ab-47b1-b6b1-68ae775cf81d",
   "metadata": {},
   "outputs": [
    {
     "data": {
      "text/plain": [
       "array(['at_home', 'health', 'other', 'services', 'teacher'], dtype=object)"
      ]
     },
     "execution_count": 9,
     "metadata": {},
     "output_type": "execute_result"
    }
   ],
   "source": [
    "# expoloring the information of some features\n",
    "\n",
    "df.Mjob.unique()"
   ]
  },
  {
   "cell_type": "code",
   "execution_count": 10,
   "id": "298b5cd2-49d6-4ab4-a7b1-e1fcf737aab2",
   "metadata": {},
   "outputs": [
    {
     "data": {
      "text/plain": [
       "array(['teacher', 'other', 'services', 'health', 'at_home'], dtype=object)"
      ]
     },
     "execution_count": 10,
     "metadata": {},
     "output_type": "execute_result"
    }
   ],
   "source": [
    "df.Fjob.unique()"
   ]
  },
  {
   "cell_type": "code",
   "execution_count": 11,
   "id": "63bfb489-734a-4a6b-9c12-19ce1a6e7a3f",
   "metadata": {},
   "outputs": [
    {
     "data": {
      "text/plain": [
       "array([2, 1, 3, 4], dtype=int64)"
      ]
     },
     "execution_count": 11,
     "metadata": {},
     "output_type": "execute_result"
    }
   ],
   "source": [
    "df.traveltime.unique()"
   ]
  },
  {
   "cell_type": "code",
   "execution_count": 12,
   "id": "6bb6923e-c581-4495-b9ed-d7f46e375759",
   "metadata": {},
   "outputs": [
    {
     "name": "stdout",
     "output_type": "stream",
     "text": [
      "<class 'pandas.core.frame.DataFrame'>\n",
      "RangeIndex: 649 entries, 0 to 648\n",
      "Data columns (total 31 columns):\n",
      " #   Column      Non-Null Count  Dtype \n",
      "---  ------      --------------  ----- \n",
      " 0   school      649 non-null    object\n",
      " 1   sex         649 non-null    object\n",
      " 2   age         649 non-null    int64 \n",
      " 3   address     649 non-null    object\n",
      " 4   famsize     649 non-null    object\n",
      " 5   Pstatus     649 non-null    object\n",
      " 6   Medu        649 non-null    int64 \n",
      " 7   Fedu        649 non-null    int64 \n",
      " 8   Mjob        649 non-null    object\n",
      " 9   Fjob        649 non-null    object\n",
      " 10  reason      649 non-null    object\n",
      " 11  guardian    649 non-null    object\n",
      " 12  traveltime  649 non-null    int64 \n",
      " 13  studytime   649 non-null    int64 \n",
      " 14  schoolsup   649 non-null    object\n",
      " 15  famsup      649 non-null    object\n",
      " 16  paid        649 non-null    object\n",
      " 17  activities  649 non-null    object\n",
      " 18  nursery     649 non-null    object\n",
      " 19  higher      649 non-null    object\n",
      " 20  internet    649 non-null    object\n",
      " 21  romantic    649 non-null    object\n",
      " 22  famrel      649 non-null    int64 \n",
      " 23  freetime    649 non-null    int64 \n",
      " 24  goout       649 non-null    int64 \n",
      " 25  Dalc        649 non-null    int64 \n",
      " 26  Walc        649 non-null    int64 \n",
      " 27  health      649 non-null    int64 \n",
      " 28  absences    649 non-null    int64 \n",
      " 29  G1          649 non-null    int64 \n",
      " 30  G2          649 non-null    int64 \n",
      "dtypes: int64(14), object(17)\n",
      "memory usage: 157.3+ KB\n"
     ]
    }
   ],
   "source": [
    "df.info()"
   ]
  },
  {
   "cell_type": "code",
   "execution_count": 13,
   "id": "e1804cbb-4457-4fc8-ad3a-fd484f179b7a",
   "metadata": {},
   "outputs": [],
   "source": [
    "# replacing categorical variable for numerical\n",
    "\n",
    "df['school'].replace({'GP': 0, 'MS': 1}, inplace=True)\n",
    "df['sex'].replace({'F': 0, 'M': 1}, inplace=True)\n",
    "df['address'].replace({'U': 0, 'R': 1}, inplace=True)\n",
    "df['famsize'].replace({'LE3': 0, 'GT3': 1}, inplace=True)\n",
    "df['Pstatus'].replace({'T': 0, 'A': 1}, inplace=True)\n",
    "df['Mjob'].replace({'teacher': 0, 'health': 1, 'services': 2, 'at_home': 3, 'other': 4}, inplace=True)\n",
    "df['Fjob'].replace({'teacher': 0, 'health': 1, 'services': 2, 'at_home': 3, 'other': 4}, inplace=True)\n",
    "df['reason'].replace({'home': 0, 'reputation': 1, 'course': 2, 'other': 3}, inplace=True)\n",
    "df['guardian'].replace({'mother': 0, 'father': 1, 'other': 3}, inplace=True)\n",
    "df['schoolsup'].replace({'yes': 0, 'no': 1}, inplace=True)\n",
    "df['famsup'].replace({'yes': 0, 'no': 1}, inplace=True)\n",
    "df['paid'].replace({'yes': 0, 'no': 1}, inplace=True)\n",
    "df['activities'].replace({'yes': 0, 'no': 1}, inplace=True)\n",
    "df['nursery'].replace({'yes': 0, 'no': 1}, inplace=True)\n",
    "df['higher'].replace({'yes': 0, 'no': 1}, inplace=True)\n",
    "df['internet'].replace({'yes': 0, 'no': 1}, inplace=True)\n",
    "df['romantic'].replace({'yes': 0, 'no': 1}, inplace=True)\n",
    "\n"
   ]
  },
  {
   "cell_type": "code",
   "execution_count": 14,
   "id": "b0e4b3a7-930f-4270-9684-1db7e9b5dd9e",
   "metadata": {},
   "outputs": [
    {
     "data": {
      "text/html": [
       "<div>\n",
       "<style scoped>\n",
       "    .dataframe tbody tr th:only-of-type {\n",
       "        vertical-align: middle;\n",
       "    }\n",
       "\n",
       "    .dataframe tbody tr th {\n",
       "        vertical-align: top;\n",
       "    }\n",
       "\n",
       "    .dataframe thead th {\n",
       "        text-align: right;\n",
       "    }\n",
       "</style>\n",
       "<table border=\"1\" class=\"dataframe\">\n",
       "  <thead>\n",
       "    <tr style=\"text-align: right;\">\n",
       "      <th></th>\n",
       "      <th>school</th>\n",
       "      <th>sex</th>\n",
       "      <th>age</th>\n",
       "      <th>address</th>\n",
       "      <th>famsize</th>\n",
       "      <th>Pstatus</th>\n",
       "      <th>Medu</th>\n",
       "      <th>Fedu</th>\n",
       "      <th>Mjob</th>\n",
       "      <th>Fjob</th>\n",
       "      <th>...</th>\n",
       "      <th>romantic</th>\n",
       "      <th>famrel</th>\n",
       "      <th>freetime</th>\n",
       "      <th>goout</th>\n",
       "      <th>Dalc</th>\n",
       "      <th>Walc</th>\n",
       "      <th>health</th>\n",
       "      <th>absences</th>\n",
       "      <th>G1</th>\n",
       "      <th>G2</th>\n",
       "    </tr>\n",
       "  </thead>\n",
       "  <tbody>\n",
       "    <tr>\n",
       "      <th>0</th>\n",
       "      <td>0</td>\n",
       "      <td>0</td>\n",
       "      <td>18</td>\n",
       "      <td>0</td>\n",
       "      <td>1</td>\n",
       "      <td>1</td>\n",
       "      <td>4</td>\n",
       "      <td>4</td>\n",
       "      <td>3</td>\n",
       "      <td>0</td>\n",
       "      <td>...</td>\n",
       "      <td>1</td>\n",
       "      <td>4</td>\n",
       "      <td>3</td>\n",
       "      <td>4</td>\n",
       "      <td>1</td>\n",
       "      <td>1</td>\n",
       "      <td>3</td>\n",
       "      <td>4</td>\n",
       "      <td>0</td>\n",
       "      <td>11</td>\n",
       "    </tr>\n",
       "    <tr>\n",
       "      <th>1</th>\n",
       "      <td>0</td>\n",
       "      <td>0</td>\n",
       "      <td>17</td>\n",
       "      <td>0</td>\n",
       "      <td>1</td>\n",
       "      <td>0</td>\n",
       "      <td>1</td>\n",
       "      <td>1</td>\n",
       "      <td>3</td>\n",
       "      <td>4</td>\n",
       "      <td>...</td>\n",
       "      <td>1</td>\n",
       "      <td>5</td>\n",
       "      <td>3</td>\n",
       "      <td>3</td>\n",
       "      <td>1</td>\n",
       "      <td>1</td>\n",
       "      <td>3</td>\n",
       "      <td>2</td>\n",
       "      <td>9</td>\n",
       "      <td>11</td>\n",
       "    </tr>\n",
       "    <tr>\n",
       "      <th>2</th>\n",
       "      <td>0</td>\n",
       "      <td>0</td>\n",
       "      <td>15</td>\n",
       "      <td>0</td>\n",
       "      <td>0</td>\n",
       "      <td>0</td>\n",
       "      <td>1</td>\n",
       "      <td>1</td>\n",
       "      <td>3</td>\n",
       "      <td>4</td>\n",
       "      <td>...</td>\n",
       "      <td>1</td>\n",
       "      <td>4</td>\n",
       "      <td>3</td>\n",
       "      <td>2</td>\n",
       "      <td>2</td>\n",
       "      <td>3</td>\n",
       "      <td>3</td>\n",
       "      <td>6</td>\n",
       "      <td>12</td>\n",
       "      <td>13</td>\n",
       "    </tr>\n",
       "    <tr>\n",
       "      <th>3</th>\n",
       "      <td>0</td>\n",
       "      <td>0</td>\n",
       "      <td>15</td>\n",
       "      <td>0</td>\n",
       "      <td>1</td>\n",
       "      <td>0</td>\n",
       "      <td>4</td>\n",
       "      <td>2</td>\n",
       "      <td>1</td>\n",
       "      <td>2</td>\n",
       "      <td>...</td>\n",
       "      <td>0</td>\n",
       "      <td>3</td>\n",
       "      <td>2</td>\n",
       "      <td>2</td>\n",
       "      <td>1</td>\n",
       "      <td>1</td>\n",
       "      <td>5</td>\n",
       "      <td>0</td>\n",
       "      <td>14</td>\n",
       "      <td>14</td>\n",
       "    </tr>\n",
       "    <tr>\n",
       "      <th>4</th>\n",
       "      <td>0</td>\n",
       "      <td>0</td>\n",
       "      <td>16</td>\n",
       "      <td>0</td>\n",
       "      <td>1</td>\n",
       "      <td>0</td>\n",
       "      <td>3</td>\n",
       "      <td>3</td>\n",
       "      <td>4</td>\n",
       "      <td>4</td>\n",
       "      <td>...</td>\n",
       "      <td>1</td>\n",
       "      <td>4</td>\n",
       "      <td>3</td>\n",
       "      <td>2</td>\n",
       "      <td>1</td>\n",
       "      <td>2</td>\n",
       "      <td>5</td>\n",
       "      <td>0</td>\n",
       "      <td>11</td>\n",
       "      <td>13</td>\n",
       "    </tr>\n",
       "  </tbody>\n",
       "</table>\n",
       "<p>5 rows × 31 columns</p>\n",
       "</div>"
      ],
      "text/plain": [
       "   school  sex  age  address  famsize  Pstatus  Medu  Fedu  Mjob  Fjob  ...  \\\n",
       "0       0    0   18        0        1        1     4     4     3     0  ...   \n",
       "1       0    0   17        0        1        0     1     1     3     4  ...   \n",
       "2       0    0   15        0        0        0     1     1     3     4  ...   \n",
       "3       0    0   15        0        1        0     4     2     1     2  ...   \n",
       "4       0    0   16        0        1        0     3     3     4     4  ...   \n",
       "\n",
       "   romantic  famrel  freetime  goout  Dalc  Walc  health  absences  G1  G2  \n",
       "0         1       4         3      4     1     1       3         4   0  11  \n",
       "1         1       5         3      3     1     1       3         2   9  11  \n",
       "2         1       4         3      2     2     3       3         6  12  13  \n",
       "3         0       3         2      2     1     1       5         0  14  14  \n",
       "4         1       4         3      2     1     2       5         0  11  13  \n",
       "\n",
       "[5 rows x 31 columns]"
      ]
     },
     "execution_count": 14,
     "metadata": {},
     "output_type": "execute_result"
    }
   ],
   "source": [
    "df.head()"
   ]
  },
  {
   "cell_type": "code",
   "execution_count": 15,
   "id": "e454577f-1aba-4340-8321-3574ff2be8e9",
   "metadata": {},
   "outputs": [
    {
     "data": {
      "text/plain": [
       "array([3, 1, 4, 2, 0], dtype=int64)"
      ]
     },
     "execution_count": 15,
     "metadata": {},
     "output_type": "execute_result"
    }
   ],
   "source": [
    "df.Mjob.unique()"
   ]
  },
  {
   "cell_type": "code",
   "execution_count": 16,
   "id": "694a074c-b3c3-43cf-b6c2-e4f898de06e1",
   "metadata": {},
   "outputs": [
    {
     "name": "stdout",
     "output_type": "stream",
     "text": [
      "<class 'pandas.core.frame.DataFrame'>\n",
      "RangeIndex: 649 entries, 0 to 648\n",
      "Data columns (total 31 columns):\n",
      " #   Column      Non-Null Count  Dtype\n",
      "---  ------      --------------  -----\n",
      " 0   school      649 non-null    int64\n",
      " 1   sex         649 non-null    int64\n",
      " 2   age         649 non-null    int64\n",
      " 3   address     649 non-null    int64\n",
      " 4   famsize     649 non-null    int64\n",
      " 5   Pstatus     649 non-null    int64\n",
      " 6   Medu        649 non-null    int64\n",
      " 7   Fedu        649 non-null    int64\n",
      " 8   Mjob        649 non-null    int64\n",
      " 9   Fjob        649 non-null    int64\n",
      " 10  reason      649 non-null    int64\n",
      " 11  guardian    649 non-null    int64\n",
      " 12  traveltime  649 non-null    int64\n",
      " 13  studytime   649 non-null    int64\n",
      " 14  schoolsup   649 non-null    int64\n",
      " 15  famsup      649 non-null    int64\n",
      " 16  paid        649 non-null    int64\n",
      " 17  activities  649 non-null    int64\n",
      " 18  nursery     649 non-null    int64\n",
      " 19  higher      649 non-null    int64\n",
      " 20  internet    649 non-null    int64\n",
      " 21  romantic    649 non-null    int64\n",
      " 22  famrel      649 non-null    int64\n",
      " 23  freetime    649 non-null    int64\n",
      " 24  goout       649 non-null    int64\n",
      " 25  Dalc        649 non-null    int64\n",
      " 26  Walc        649 non-null    int64\n",
      " 27  health      649 non-null    int64\n",
      " 28  absences    649 non-null    int64\n",
      " 29  G1          649 non-null    int64\n",
      " 30  G2          649 non-null    int64\n",
      "dtypes: int64(31)\n",
      "memory usage: 157.3 KB\n"
     ]
    }
   ],
   "source": [
    "df.info()"
   ]
  },
  {
   "cell_type": "markdown",
   "id": "5bddf0f1-3d5f-4902-a915-e0e5bf97a6a9",
   "metadata": {},
   "source": [
    "# Exploring more and plotting some numerical variables"
   ]
  },
  {
   "cell_type": "markdown",
   "id": "10be25ca-4b54-4e1b-96ca-0887fe6908fe",
   "metadata": {},
   "source": [
    "According to the information, there are continuous numerical variable in the dataset, mainly related with grades, so may be interesting to explore it"
   ]
  },
  {
   "cell_type": "code",
   "execution_count": 69,
   "id": "54d6c72a-ff2b-4fc2-b330-50e769c23031",
   "metadata": {},
   "outputs": [
    {
     "data": {
      "text/plain": [
       "<Axes: >"
      ]
     },
     "execution_count": 69,
     "metadata": {},
     "output_type": "execute_result"
    },
    {
     "data": {
      "image/png": "[encoded data removed]",
      "text/plain": [
       "<Figure size 640x480 with 1 Axes>"
      ]
     },
     "metadata": {},
     "output_type": "display_data"
    }
   ],
   "source": [
    "sns.boxplot(df['G1']) # First Semester grades"
   ]
  },
  {
   "cell_type": "code",
   "execution_count": 70,
   "id": "ef102052-5a5c-4ce4-beaa-4909c52cddc8",
   "metadata": {},
   "outputs": [
    {
     "data": {
      "text/plain": [
       "<seaborn.axisgrid.FacetGrid at 0x27d69604250>"
      ]
     },
     "execution_count": 70,
     "metadata": {},
     "output_type": "execute_result"
    },
    {
     "data": {
      "image/png": "[encoded data removed]",
      "text/plain": [
       "<Figure size 500x500 with 1 Axes>"
      ]
     },
     "metadata": {},
     "output_type": "display_data"
    }
   ],
   "source": [
    "# Let´s explore it a little bit more and see what it looks like with a histogram.\n",
    "\n",
    "sns.displot(df['G1']) "
   ]
  },
  {
   "cell_type": "code",
   "execution_count": 72,
   "id": "90f6c470-6421-4182-84b3-ce42fbff6f5b",
   "metadata": {},
   "outputs": [
    {
     "data": {
      "text/plain": [
       "<Axes: >"
      ]
     },
     "execution_count": 72,
     "metadata": {},
     "output_type": "execute_result"
    },
    {
     "data": {
      "image/png": "[encoded data removed]",
      "text/plain": [
       "<Figure size 640x480 with 1 Axes>"
      ]
     },
     "metadata": {},
     "output_type": "display_data"
    }
   ],
   "source": [
    "\n",
    "sns.boxplot(df['G2']) # second Semester grades"
   ]
  },
  {
   "cell_type": "code",
   "execution_count": 73,
   "id": "5474b49e-11cf-4b95-acb5-2906123eb17c",
   "metadata": {},
   "outputs": [
    {
     "data": {
      "text/plain": [
       "<seaborn.axisgrid.FacetGrid at 0x27d677e1c50>"
      ]
     },
     "execution_count": 73,
     "metadata": {},
     "output_type": "execute_result"
    },
    {
     "data": {
      "image/png": "[encoded data removed]",
      "text/plain": [
       "<Figure size 500x500 with 1 Axes>"
      ]
     },
     "metadata": {},
     "output_type": "display_data"
    }
   ],
   "source": [
    "# Let´s explore it a little bit more and see what it looks like with a histogram.\n",
    "\n",
    "sns.displot(df['G2']) "
   ]
  },
  {
   "cell_type": "markdown",
   "id": "da007232-0bce-4f2b-b80d-650bb9836dbe",
   "metadata": {},
   "source": [
    "The distribution of this two features, looks quite similar, lets see both in a scatterplot"
   ]
  },
  {
   "cell_type": "code",
   "execution_count": 75,
   "id": "5350b2c2-40bf-4edf-bb07-e7b38c4e783b",
   "metadata": {},
   "outputs": [
    {
     "data": {
      "text/plain": [
       "<Axes: xlabel='G1', ylabel='G2'>"
      ]
     },
     "execution_count": 75,
     "metadata": {},
     "output_type": "execute_result"
    },
    {
     "data": {
      "image/png": "[encoded data removed]",
      "text/plain": [
       "<Figure size 640x480 with 1 Axes>"
      ]
     },
     "metadata": {},
     "output_type": "display_data"
    }
   ],
   "source": [
    "sns.scatterplot(x= df['G1'], y=df['G2']) "
   ]
  },
  {
   "cell_type": "markdown",
   "id": "c82f71d0-508c-4311-ad19-2126ca43b522",
   "metadata": {},
   "source": [
    "As it was expected, there is a positive correlation between these two variables"
   ]
  },
  {
   "cell_type": "code",
   "execution_count": 81,
   "id": "49578878-b63e-4287-b0bc-b24b97b0baae",
   "metadata": {},
   "outputs": [
    {
     "data": {
      "image/png": "[encoded data removed]",
      "text/plain": [
       "<Figure size 1000x600 with 1 Axes>"
      ]
     },
     "metadata": {},
     "output_type": "display_data"
    }
   ],
   "source": [
    "# let's see the distribution of the grades on each one of the alcohol consumption levels, 1 low alcohol consumption and 5 high\n",
    "\n",
    "plt.figure(figsize=(10, 6))\n",
    "plt.boxplot([df[df['Walc'] == i]['G1'] for i in range(1, 6)])\n",
    "plt.title('Alcohol consumptions on weekends vs First semester grades')\n",
    "plt.xlabel('Alcohol consumption on the weekend  (1=low, 5=hight)')\n",
    "plt.ylabel('First semester grades')\n",
    "plt.xticks([1, 2, 3, 4, 5], ['1', '2', '3', '4', '5'])\n",
    "plt.grid(True)\n",
    "plt.show()"
   ]
  },
  {
   "cell_type": "markdown",
   "id": "d7e93b2a-4dd4-4e7f-89cb-b0331ed06f1d",
   "metadata": {},
   "source": [
    "it is possible to notice that in the first two levels of alcohol consumption, the media is almost the same\n",
    "reaching the score of 12,5, but as the alcohol consumption level increases, the media of the first semester scores decrease to 10\n",
    "at least we could say that there is a negative correlation between alcohol consumption and grade scores."
   ]
  },
  {
   "cell_type": "code",
   "execution_count": 82,
   "id": "6e01a76b-5e35-4642-8cc6-0998a9de3d62",
   "metadata": {},
   "outputs": [
    {
     "data": {
      "image/png": "[encoded data removed]",
      "text/plain": [
       "<Figure size 1000x600 with 1 Axes>"
      ]
     },
     "metadata": {},
     "output_type": "display_data"
    }
   ],
   "source": [
    "# what about the same relation but using second semester grades\n",
    "\n",
    "# let's see the distribution of the grades on each one of the alcohol consumption levels, 1 low alcohol consumption and 5 high\n",
    "\n",
    "plt.figure(figsize=(10, 6))\n",
    "plt.boxplot([df[df['Walc'] == i]['G2'] for i in range(1, 6)])\n",
    "plt.title('Alcohol consumptions on weekends vs second semester grades')\n",
    "plt.xlabel('Alcohol consumption on the weekend  (1=low, 5=hight)')\n",
    "plt.ylabel('second semester grades')\n",
    "plt.xticks([1, 2, 3, 4, 5], ['1', '2', '3', '4', '5'])\n",
    "plt.grid(True)\n",
    "plt.show()"
   ]
  },
  {
   "cell_type": "markdown",
   "id": "2243ea6b-ab76-43c4-b960-623efb8b6c21",
   "metadata": {},
   "source": [
    "In this case, there is also a difference in the grades of the students with low alcohol consumption on weekends and the ones with high levels, being the grades mean of the ones with level 5 lower than the media of the ones with level 1"
   ]
  },
  {
   "cell_type": "markdown",
   "id": "40d68089-ed4f-4b0c-9d6b-3ff5b07b3253",
   "metadata": {},
   "source": [
    "Lets analyse if this tendency increases with alcohol consumption over weeks."
   ]
  },
  {
   "cell_type": "code",
   "execution_count": 86,
   "id": "6462fdf4-a67e-4023-b6a1-2d8b21fb8390",
   "metadata": {},
   "outputs": [
    {
     "data": {
      "image/png": "[encoded data removed]",
      "text/plain": [
       "<Figure size 1000x600 with 1 Axes>"
      ]
     },
     "metadata": {},
     "output_type": "display_data"
    }
   ],
   "source": [
    "plt.figure(figsize=(10, 6))\n",
    "plt.boxplot([df[df['Dalc'] == i]['G1'] for i in range(1, 6)])\n",
    "plt.title('Alcohol consumption on the work day  vs First semester grades')\n",
    "plt.xlabel('Alcohol consumption on the work day   (1=low, 5=hight)')\n",
    "plt.ylabel('First semester grades')\n",
    "plt.xticks([1, 2, 3, 4, 5], ['1', '2', '3', '4', '5'])\n",
    "plt.grid(True)\n",
    "plt.show()"
   ]
  },
  {
   "cell_type": "code",
   "execution_count": 85,
   "id": "4aaf04d7-93cd-43bf-bf54-2777854fe6aa",
   "metadata": {},
   "outputs": [
    {
     "data": {
      "image/png": "[encoded data removed]",
      "text/plain": [
       "<Figure size 1000x600 with 1 Axes>"
      ]
     },
     "metadata": {},
     "output_type": "display_data"
    }
   ],
   "source": [
    "plt.figure(figsize=(10, 6))\n",
    "plt.boxplot([df[df['Dalc'] == i]['G2'] for i in range(1, 6)])\n",
    "plt.title('Alcohol consumption on the work day  vs Second semester grades')\n",
    "plt.xlabel('Alcohol consumption on the work day   (1=low, 5=hight)')\n",
    "plt.ylabel('Second semester grades')\n",
    "plt.xticks([1, 2, 3, 4, 5], ['1', '2', '3', '4', '5'])\n",
    "plt.grid(True)\n",
    "plt.show()"
   ]
  },
  {
   "cell_type": "markdown",
   "id": "3fc2d193-b997-49fe-a6cb-163641d241b4",
   "metadata": {},
   "source": [
    "it is possible to notice that in the case of Alcohol consumption on the work day level 3, looks more affected on the their grades means, being as low as the mean of the level 5 group"
   ]
  },
  {
   "cell_type": "code",
   "execution_count": null,
   "id": "9ff0b76e-aa2a-45db-a017-cfeefa3dea25",
   "metadata": {},
   "outputs": [],
   "source": []
  },
  {
   "cell_type": "code",
   "execution_count": null,
   "id": "ba496fb0-aa9b-43f8-ac46-cf2f0c84a826",
   "metadata": {},
   "outputs": [],
   "source": []
  },
  {
   "cell_type": "markdown",
   "id": "049db271-8463-4f47-bc1f-5e6156ed81f0",
   "metadata": {
    "jp-MarkdownHeadingCollapsed": true
   },
   "source": [
    "# PCA"
   ]
  },
  {
   "cell_type": "code",
   "execution_count": 17,
   "id": "e41cfa6a-a098-4f4b-b554-559332b6d87e",
   "metadata": {},
   "outputs": [],
   "source": [
    "# import \n",
    "from sklearn.decomposition import PCA "
   ]
  },
  {
   "cell_type": "code",
   "execution_count": 18,
   "id": "b484bf86-b745-42ba-a4b6-5846f279b990",
   "metadata": {},
   "outputs": [],
   "source": [
    "df_no_Target = df.iloc[:,:30]"
   ]
  },
  {
   "cell_type": "code",
   "execution_count": 19,
   "id": "7d97be0b-ab6f-4e4c-9545-c63c5e787df5",
   "metadata": {},
   "outputs": [
    {
     "name": "stdout",
     "output_type": "stream",
     "text": [
      "<class 'pandas.core.frame.DataFrame'>\n",
      "RangeIndex: 649 entries, 0 to 648\n",
      "Data columns (total 30 columns):\n",
      " #   Column      Non-Null Count  Dtype\n",
      "---  ------      --------------  -----\n",
      " 0   school      649 non-null    int64\n",
      " 1   sex         649 non-null    int64\n",
      " 2   age         649 non-null    int64\n",
      " 3   address     649 non-null    int64\n",
      " 4   famsize     649 non-null    int64\n",
      " 5   Pstatus     649 non-null    int64\n",
      " 6   Medu        649 non-null    int64\n",
      " 7   Fedu        649 non-null    int64\n",
      " 8   Mjob        649 non-null    int64\n",
      " 9   Fjob        649 non-null    int64\n",
      " 10  reason      649 non-null    int64\n",
      " 11  guardian    649 non-null    int64\n",
      " 12  traveltime  649 non-null    int64\n",
      " 13  studytime   649 non-null    int64\n",
      " 14  schoolsup   649 non-null    int64\n",
      " 15  famsup      649 non-null    int64\n",
      " 16  paid        649 non-null    int64\n",
      " 17  activities  649 non-null    int64\n",
      " 18  nursery     649 non-null    int64\n",
      " 19  higher      649 non-null    int64\n",
      " 20  internet    649 non-null    int64\n",
      " 21  romantic    649 non-null    int64\n",
      " 22  famrel      649 non-null    int64\n",
      " 23  freetime    649 non-null    int64\n",
      " 24  goout       649 non-null    int64\n",
      " 25  Dalc        649 non-null    int64\n",
      " 26  Walc        649 non-null    int64\n",
      " 27  health      649 non-null    int64\n",
      " 28  absences    649 non-null    int64\n",
      " 29  G1          649 non-null    int64\n",
      "dtypes: int64(30)\n",
      "memory usage: 152.2 KB\n"
     ]
    }
   ],
   "source": [
    "df_no_Target.info()"
   ]
  },
  {
   "cell_type": "code",
   "execution_count": 20,
   "id": "e851b7ce-d0bc-47d5-8f96-f5732d9a6771",
   "metadata": {},
   "outputs": [
    {
     "data": {
      "image/png": "[encoded data removed]",
      "text/plain": [
       "<Figure size 640x480 with 1 Axes>"
      ]
     },
     "metadata": {},
     "output_type": "display_data"
    }
   ],
   "source": [
    "# To do the Principal Component Analysis, firstly it is important to know how many features will be necessary to create to condense the data properly \n",
    "# and getting in this way a good signal \n",
    "#For that purpose a cumulative explained variance plot is useful, let us see how many features are necessary for a certain variance.\n",
    "\n",
    "pca = PCA().fit(df_no_Target) \n",
    "plt.plot(np.cumsum(pca.explained_variance_ratio_)) \n",
    "plt.xlabel('number of components') \n",
    "plt.ylabel('cumulative explained variance');"
   ]
  },
  {
   "cell_type": "markdown",
   "id": "9b5ec9e6-5677-4c9f-ad0d-e978af68245e",
   "metadata": {},
   "source": [
    "it is possible to notice that the maximum level of cumulative explained variance is reached with almost the total number of components\n"
   ]
  },
  {
   "cell_type": "code",
   "execution_count": 21,
   "id": "88808e9b-10dd-4c92-b4ae-0d615d130f6b",
   "metadata": {},
   "outputs": [],
   "source": [
    "pca = PCA(25)\n",
    "df_pca = pca.fit_transform(df_no_Target)"
   ]
  },
  {
   "cell_type": "code",
   "execution_count": 22,
   "id": "97c42049-357f-4b0c-abbe-e97bef60a5ce",
   "metadata": {},
   "outputs": [
    {
     "data": {
      "text/plain": [
       "(649, 25)"
      ]
     },
     "execution_count": 22,
     "metadata": {},
     "output_type": "execute_result"
    }
   ],
   "source": [
    "df_pca.shape"
   ]
  },
  {
   "cell_type": "code",
   "execution_count": null,
   "id": "3ef7a3ea-f79f-4b62-b0f5-4def760b4ddb",
   "metadata": {},
   "outputs": [],
   "source": []
  },
  {
   "cell_type": "markdown",
   "id": "6cc08154-f9ec-4f96-bdf8-43eefdc50aed",
   "metadata": {
    "jp-MarkdownHeadingCollapsed": true
   },
   "source": [
    "# Splitting Data into Training and Testing\r\n"
   ]
  },
  {
   "cell_type": "code",
   "execution_count": 23,
   "id": "4f63fd10-0079-485e-9b20-9096ee865a3b",
   "metadata": {},
   "outputs": [],
   "source": [
    "# storage the independent variables\n",
    "\n",
    "X = df.iloc[:, :30]\n",
    "\n",
    "#storage dependent variable \n",
    "\n",
    "y = df.iloc[:, 30]"
   ]
  },
  {
   "cell_type": "code",
   "execution_count": 24,
   "id": "65394b42-2ce6-471a-816f-27ce576dc468",
   "metadata": {},
   "outputs": [
    {
     "name": "stdout",
     "output_type": "stream",
     "text": [
      "     school  sex  age  address  famsize  Pstatus  Medu  Fedu  Mjob  Fjob  ...  \\\n",
      "0         0    0   18        0        1        1     4     4     3     0  ...   \n",
      "1         0    0   17        0        1        0     1     1     3     4  ...   \n",
      "2         0    0   15        0        0        0     1     1     3     4  ...   \n",
      "3         0    0   15        0        1        0     4     2     1     2  ...   \n",
      "4         0    0   16        0        1        0     3     3     4     4  ...   \n",
      "..      ...  ...  ...      ...      ...      ...   ...   ...   ...   ...  ...   \n",
      "644       1    0   19        1        1        0     2     3     2     4  ...   \n",
      "645       1    0   18        0        0        0     3     1     0     2  ...   \n",
      "646       1    0   18        0        1        0     1     1     4     4  ...   \n",
      "647       1    1   17        0        0        0     3     1     2     2  ...   \n",
      "648       1    1   18        1        0        0     3     2     2     4  ...   \n",
      "\n",
      "     internet  romantic  famrel  freetime  goout  Dalc  Walc  health  \\\n",
      "0           1         1       4         3      4     1     1       3   \n",
      "1           0         1       5         3      3     1     1       3   \n",
      "2           0         1       4         3      2     2     3       3   \n",
      "3           0         0       3         2      2     1     1       5   \n",
      "4           1         1       4         3      2     1     2       5   \n",
      "..        ...       ...     ...       ...    ...   ...   ...     ...   \n",
      "644         0         1       5         4      2     1     2       5   \n",
      "645         0         1       4         3      4     1     1       1   \n",
      "646         1         1       1         1      1     1     1       5   \n",
      "647         0         1       2         4      5     3     4       2   \n",
      "648         0         1       4         4      1     3     4       5   \n",
      "\n",
      "     absences  G1  \n",
      "0           4   0  \n",
      "1           2   9  \n",
      "2           6  12  \n",
      "3           0  14  \n",
      "4           0  11  \n",
      "..        ...  ..  \n",
      "644         4  10  \n",
      "645         4  15  \n",
      "646         6  11  \n",
      "647         6  10  \n",
      "648         4  10  \n",
      "\n",
      "[649 rows x 30 columns]\n"
     ]
    }
   ],
   "source": [
    "print(X)"
   ]
  },
  {
   "cell_type": "code",
   "execution_count": 25,
   "id": "aec32bff-d4cf-4c2a-b374-86f1b9cca3b1",
   "metadata": {},
   "outputs": [
    {
     "name": "stdout",
     "output_type": "stream",
     "text": [
      "0      11\n",
      "1      11\n",
      "2      13\n",
      "3      14\n",
      "4      13\n",
      "       ..\n",
      "644    11\n",
      "645    15\n",
      "646    12\n",
      "647    10\n",
      "648    11\n",
      "Name: G2, Length: 649, dtype: int64\n"
     ]
    }
   ],
   "source": [
    "print (y)"
   ]
  },
  {
   "cell_type": "code",
   "execution_count": 26,
   "id": "c3ccf5e9-4dd6-4130-9635-589664c7b130",
   "metadata": {},
   "outputs": [],
   "source": [
    "# Import train_test_split function\n",
    "from sklearn.model_selection import train_test_split"
   ]
  },
  {
   "cell_type": "code",
   "execution_count": 27,
   "id": "e3eaa273-dfbd-4eb6-b1eb-5972e862a4a0",
   "metadata": {},
   "outputs": [],
   "source": [
    "# aca estamos dividiendo el data set en el de entrenamiento y prueba\n",
    "X_train, X_test, y_train, y_test = train_test_split(X, y, test_size = 0.20, random_state = 10)"
   ]
  },
  {
   "cell_type": "code",
   "execution_count": 28,
   "id": "d072fd6e-9d39-418d-9cc2-499de99ed300",
   "metadata": {},
   "outputs": [
    {
     "data": {
      "text/plain": [
       "((649, 30), (519, 30))"
      ]
     },
     "execution_count": 28,
     "metadata": {},
     "output_type": "execute_result"
    }
   ],
   "source": [
    "# comparacion dataset original de variables X y el dat set usado para el entrenamieto \n",
    "X.shape, X_train.shape"
   ]
  },
  {
   "cell_type": "code",
   "execution_count": 29,
   "id": "7342e41e-45b6-4eba-90b5-d4065711cde1",
   "metadata": {},
   "outputs": [
    {
     "data": {
      "text/plain": [
       "((649,), (519,))"
      ]
     },
     "execution_count": 29,
     "metadata": {},
     "output_type": "execute_result"
    }
   ],
   "source": [
    "# comparacion dataset target original vs el usado para el entrenamiento\n",
    "y.shape, y_train.shape"
   ]
  },
  {
   "cell_type": "code",
   "execution_count": null,
   "id": "c1ac89fb-d88d-42f5-87d0-9b465b146599",
   "metadata": {},
   "outputs": [],
   "source": []
  },
  {
   "cell_type": "markdown",
   "id": "4446c6f2-efec-4060-a5c5-2acdfa8a3633",
   "metadata": {},
   "source": [
    "# KNN regression model "
   ]
  },
  {
   "cell_type": "markdown",
   "id": "18133fb2-291b-47c2-b35b-b1c1abb14a74",
   "metadata": {},
   "source": [
    "Selecting the most accurate number of neighbours"
   ]
  },
  {
   "cell_type": "code",
   "execution_count": 30,
   "id": "0a4a0f33-2a69-4fba-8811-451ce4588df0",
   "metadata": {},
   "outputs": [],
   "source": [
    "from sklearn.neighbors import KNeighborsRegressor\n",
    "import numpy as np\n",
    "neighbors = np.arange(1, 100)                  \n",
    "train_accuracy = np.zeros(len(neighbors))     \n",
    "test_accuracy = np.zeros(len(neighbors))      "
   ]
  },
  {
   "cell_type": "code",
   "execution_count": 31,
   "id": "e02d2831-076a-4b85-a528-3d708e3b31f2",
   "metadata": {},
   "outputs": [],
   "source": [
    "for i, k in enumerate(neighbors):                         \n",
    "    kNN = KNeighborsRegressor(n_neighbors = k)          \n",
    "\n",
    "    # Fit the model\n",
    "    kNN.fit(X_train, y_train)                              \n",
    "\n",
    "    # Compute accuracy on the training set\n",
    "    train_accuracy[i] = kNN.score(X_train, y_train)       \n",
    "\n",
    "    # Compute accuracy on the test set\n",
    "    test_accuracy[i] = kNN.score(X_test, y_test)           "
   ]
  },
  {
   "cell_type": "code",
   "execution_count": 32,
   "id": "8a3ffa0e-8050-419d-bca3-95caf0015889",
   "metadata": {},
   "outputs": [
    {
     "data": {
      "image/png": "[encoded data removed]",
      "text/plain": [
       "<Figure size 1000x600 with 1 Axes>"
      ]
     },
     "metadata": {},
     "output_type": "display_data"
    }
   ],
   "source": [
    "import matplotlib.pyplot as plt\n",
    "\n",
    "plt.figure(figsize = (10, 6))\n",
    "plt.title('KNN accuracy with varying number of neighbors', fontsize = 20)\n",
    "plt.plot(neighbors, test_accuracy, label = 'Testing Accuracy')\n",
    "plt.plot(neighbors, train_accuracy, label = 'Training accuracy')\n",
    "plt.legend(prop={'size': 20})\n",
    "plt.xlabel('Number of neighbors', fontsize = 20)\n",
    "plt.ylabel('Accuracy', fontsize = 20)\n",
    "plt.xticks(fontsize = 20)\n",
    "plt.yticks(fontsize = 20)\n",
    "plt.show()"
   ]
  },
  {
   "cell_type": "markdown",
   "id": "073e9a3c-bdeb-4f6a-963d-05d0b0cc5cd4",
   "metadata": {},
   "source": [
    "Applying the knn regressor model"
   ]
  },
  {
   "cell_type": "code",
   "execution_count": 33,
   "id": "b38f0544-3d91-4386-bbe9-73c7dfd52e5f",
   "metadata": {},
   "outputs": [
    {
     "data": {
      "text/html": [
       "<style>#sk-container-id-1 {color: black;background-color: white;}#sk-container-id-1 pre{padding: 0;}#sk-container-id-1 div.sk-toggleable {background-color: white;}#sk-container-id-1 label.sk-toggleable__label {cursor: pointer;display: block;width: 100%;margin-bottom: 0;padding: 0.3em;box-sizing: border-box;text-align: center;}#sk-container-id-1 label.sk-toggleable__label-arrow:before {content: \"▸\";float: left;margin-right: 0.25em;color: #696969;}#sk-container-id-1 label.sk-toggleable__label-arrow:hover:before {color: black;}#sk-container-id-1 div.sk-estimator:hover label.sk-toggleable__label-arrow:before {color: black;}#sk-container-id-1 div.sk-toggleable__content {max-height: 0;max-width: 0;overflow: hidden;text-align: left;background-color: #f0f8ff;}#sk-container-id-1 div.sk-toggleable__content pre {margin: 0.2em;color: black;border-radius: 0.25em;background-color: #f0f8ff;}#sk-container-id-1 input.sk-toggleable__control:checked~div.sk-toggleable__content {max-height: 200px;max-width: 100%;overflow: auto;}#sk-container-id-1 input.sk-toggleable__control:checked~label.sk-toggleable__label-arrow:before {content: \"▾\";}#sk-container-id-1 div.sk-estimator input.sk-toggleable__control:checked~label.sk-toggleable__label {background-color: #d4ebff;}#sk-container-id-1 div.sk-label input.sk-toggleable__control:checked~label.sk-toggleable__label {background-color: #d4ebff;}#sk-container-id-1 input.sk-hidden--visually {border: 0;clip: rect(1px 1px 1px 1px);clip: rect(1px, 1px, 1px, 1px);height: 1px;margin: -1px;overflow: hidden;padding: 0;position: absolute;width: 1px;}#sk-container-id-1 div.sk-estimator {font-family: monospace;background-color: #f0f8ff;border: 1px dotted black;border-radius: 0.25em;box-sizing: border-box;margin-bottom: 0.5em;}#sk-container-id-1 div.sk-estimator:hover {background-color: #d4ebff;}#sk-container-id-1 div.sk-parallel-item::after {content: \"\";width: 100%;border-bottom: 1px solid gray;flex-grow: 1;}#sk-container-id-1 div.sk-label:hover label.sk-toggleable__label {background-color: #d4ebff;}#sk-container-id-1 div.sk-serial::before {content: \"\";position: absolute;border-left: 1px solid gray;box-sizing: border-box;top: 0;bottom: 0;left: 50%;z-index: 0;}#sk-container-id-1 div.sk-serial {display: flex;flex-direction: column;align-items: center;background-color: white;padding-right: 0.2em;padding-left: 0.2em;position: relative;}#sk-container-id-1 div.sk-item {position: relative;z-index: 1;}#sk-container-id-1 div.sk-parallel {display: flex;align-items: stretch;justify-content: center;background-color: white;position: relative;}#sk-container-id-1 div.sk-item::before, #sk-container-id-1 div.sk-parallel-item::before {content: \"\";position: absolute;border-left: 1px solid gray;box-sizing: border-box;top: 0;bottom: 0;left: 50%;z-index: -1;}#sk-container-id-1 div.sk-parallel-item {display: flex;flex-direction: column;z-index: 1;position: relative;background-color: white;}#sk-container-id-1 div.sk-parallel-item:first-child::after {align-self: flex-end;width: 50%;}#sk-container-id-1 div.sk-parallel-item:last-child::after {align-self: flex-start;width: 50%;}#sk-container-id-1 div.sk-parallel-item:only-child::after {width: 0;}#sk-container-id-1 div.sk-dashed-wrapped {border: 1px dashed gray;margin: 0 0.4em 0.5em 0.4em;box-sizing: border-box;padding-bottom: 0.4em;background-color: white;}#sk-container-id-1 div.sk-label label {font-family: monospace;font-weight: bold;display: inline-block;line-height: 1.2em;}#sk-container-id-1 div.sk-label-container {text-align: center;}#sk-container-id-1 div.sk-container {/* jupyter's `normalize.less` sets `[hidden] { display: none; }` but bootstrap.min.css set `[hidden] { display: none !important; }` so we also need the `!important` here to be able to override the default hidden behavior on the sphinx rendered scikit-learn.org. See: https://github.com/scikit-learn/scikit-learn/issues/21755 */display: inline-block !important;position: relative;}#sk-container-id-1 div.sk-text-repr-fallback {display: none;}</style><div id=\"sk-container-id-1\" class=\"sk-top-container\"><div class=\"sk-text-repr-fallback\"><pre>KNeighborsRegressor(n_neighbors=8)</pre><b>In a Jupyter environment, please rerun this cell to show the HTML representation or trust the notebook. <br />On GitHub, the HTML representation is unable to render, please try loading this page with nbviewer.org.</b></div><div class=\"sk-container\" hidden><div class=\"sk-item\"><div class=\"sk-estimator sk-toggleable\"><input class=\"sk-toggleable__control sk-hidden--visually\" id=\"sk-estimator-id-1\" type=\"checkbox\" checked><label for=\"sk-estimator-id-1\" class=\"sk-toggleable__label sk-toggleable__label-arrow\">KNeighborsRegressor</label><div class=\"sk-toggleable__content\"><pre>KNeighborsRegressor(n_neighbors=8)</pre></div></div></div></div></div>"
      ],
      "text/plain": [
       "KNeighborsRegressor(n_neighbors=8)"
      ]
     },
     "execution_count": 33,
     "metadata": {},
     "output_type": "execute_result"
    }
   ],
   "source": [
    "from sklearn.neighbors import KNeighborsRegressor\n",
    "\n",
    "# instantiate the model and set the number of neighbors \n",
    "reg = KNeighborsRegressor(n_neighbors = 8)\n",
    "\n",
    "# fit the model using the training data and training targets\n",
    "reg.fit(X_train, y_train)"
   ]
  },
  {
   "cell_type": "markdown",
   "id": "2b6a1bcb-6861-432c-87ce-74d3179600df",
   "metadata": {},
   "source": [
    "Checking some of the predictions"
   ]
  },
  {
   "cell_type": "code",
   "execution_count": 34,
   "id": "a40c7406-7c9c-4a75-af30-dd9a24d21c95",
   "metadata": {},
   "outputs": [
    {
     "name": "stdout",
     "output_type": "stream",
     "text": [
      "Test set predictions:\n",
      "[12.     8.875 10.75  11.875 12.125  9.    13.875 11.75  10.875 10.\n",
      " 10.375  9.125  9.125 12.25   9.875 10.     8.75  10.25  10.375 11.625\n",
      " 10.25  11.125  9.75   9.75  10.875  9.5   11.75  12.375 12.75  12.375\n",
      " 15.875 10.75   9.75  13.25  11.75  14.25   9.5   11.875 13.625 13.25\n",
      " 10.875  9.75   8.75   9.    10.875  9.    12.     9.5    9.125 11.875\n",
      " 11.875  9.75  13.    12.375 12.    10.625  9.125 12.375 14.375 13.\n",
      " 10.375  9.625 11.5   13.125  8.625  9.    13.875 10.125 12.375 10.875\n",
      " 12.375  9.5   10.375 13.25  11.875 10.125 14.375 13.5    9.75  12.5\n",
      " 14.125 11.25  11.75   9.625 15.375 11.5   14.5   11.625  9.75  15.125\n",
      " 17.25  13.375 12.625  9.125  9.25  15.5    9.25  14.125 11.5   14.\n",
      " 16.    12.25  10.875  8.625 11.875 16.875 12.    10.375 11.625  9.75\n",
      " 10.5    8.25  10.125 12.375 11.625 10.125 15.375 15.875  8.875 11.125\n",
      " 11.375  8.125 11.625  8.375  9.625 10.75  14.375 10.5   10.375 12.125]\n"
     ]
    }
   ],
   "source": [
    "# Predict the results for X_test\n",
    "print(\"Test set predictions:\\n{}\".format(reg.predict(X_test)))"
   ]
  },
  {
   "cell_type": "markdown",
   "id": "f1a7130a-00f1-4ca3-a23e-cd2647b015ce",
   "metadata": {},
   "source": [
    "Calculating the R2 ( the accuracy for this case)"
   ]
  },
  {
   "cell_type": "code",
   "execution_count": 35,
   "id": "b9e2f301-71b9-4839-85ce-3eb4fb6ff5a3",
   "metadata": {},
   "outputs": [
    {
     "name": "stdout",
     "output_type": "stream",
     "text": [
      "Test set R^2: 0.65\n"
     ]
    }
   ],
   "source": [
    "# Calculate the R^2 score\n",
    "print(\"Test set R^2: {:.2f}\".format(reg.score(X_test, y_test)))"
   ]
  },
  {
   "cell_type": "markdown",
   "id": "ca2679e3-2059-47f0-97fc-ea27da1a51b6",
   "metadata": {},
   "source": [
    "Comparing training scores against testing scores with the model"
   ]
  },
  {
   "cell_type": "code",
   "execution_count": 36,
   "id": "6363ef14-4adc-4716-ad65-8108a1368dfb",
   "metadata": {},
   "outputs": [],
   "source": [
    "y_pred = reg.predict(X_test)"
   ]
  },
  {
   "cell_type": "code",
   "execution_count": 37,
   "id": "0584bc19-9680-4c39-aab2-e2312b215d7e",
   "metadata": {},
   "outputs": [
    {
     "name": "stdout",
     "output_type": "stream",
     "text": [
      "training set score: 0.76\n",
      "test set score: 0.65\n"
     ]
    }
   ],
   "source": [
    "print(\"training set score: {:.2f}\".format(reg.score(X_train, y_train)))\n",
    "print(\"test set score: {:.2f}\".format(reg.score(X_test, y_test)))"
   ]
  },
  {
   "cell_type": "markdown",
   "id": "d392e2a4-7995-4786-a891-1bf5c81adf76",
   "metadata": {},
   "source": []
  },
  {
   "cell_type": "code",
   "execution_count": 38,
   "id": "411c3411-fc2d-4085-95be-fba0cc9f391f",
   "metadata": {},
   "outputs": [
    {
     "name": "stdout",
     "output_type": "stream",
     "text": [
      "Mean Absolute Error: 1.1423076923076922\n",
      "Mean Squared Error: 2.6158653846153848\n",
      "Root Mean Squared Error: 1.6173637143868984\n"
     ]
    }
   ],
   "source": [
    "# Calculate the error values\n",
    "\n",
    "from sklearn import metrics\n",
    "print('Mean Absolute Error:', metrics.mean_absolute_error(y_test, y_pred))\n",
    "print('Mean Squared Error:', metrics.mean_squared_error(y_test, y_pred))\n",
    "print('Root Mean Squared Error:', np.sqrt(metrics.mean_squared_error(y_test, y_pred)))"
   ]
  },
  {
   "cell_type": "code",
   "execution_count": 39,
   "id": "65c23e3c-7ce1-4987-97ac-630f0e381d92",
   "metadata": {},
   "outputs": [
    {
     "data": {
      "text/html": [
       "<div>\n",
       "<style scoped>\n",
       "    .dataframe tbody tr th:only-of-type {\n",
       "        vertical-align: middle;\n",
       "    }\n",
       "\n",
       "    .dataframe tbody tr th {\n",
       "        vertical-align: top;\n",
       "    }\n",
       "\n",
       "    .dataframe thead th {\n",
       "        text-align: right;\n",
       "    }\n",
       "</style>\n",
       "<table border=\"1\" class=\"dataframe\">\n",
       "  <thead>\n",
       "    <tr style=\"text-align: right;\">\n",
       "      <th></th>\n",
       "      <th>Actual</th>\n",
       "      <th>Predicted</th>\n",
       "    </tr>\n",
       "  </thead>\n",
       "  <tbody>\n",
       "    <tr>\n",
       "      <th>260</th>\n",
       "      <td>11</td>\n",
       "      <td>12.000</td>\n",
       "    </tr>\n",
       "    <tr>\n",
       "      <th>445</th>\n",
       "      <td>9</td>\n",
       "      <td>8.875</td>\n",
       "    </tr>\n",
       "    <tr>\n",
       "      <th>326</th>\n",
       "      <td>13</td>\n",
       "      <td>10.750</td>\n",
       "    </tr>\n",
       "    <tr>\n",
       "      <th>27</th>\n",
       "      <td>11</td>\n",
       "      <td>11.875</td>\n",
       "    </tr>\n",
       "    <tr>\n",
       "      <th>433</th>\n",
       "      <td>14</td>\n",
       "      <td>12.125</td>\n",
       "    </tr>\n",
       "  </tbody>\n",
       "</table>\n",
       "</div>"
      ],
      "text/plain": [
       "     Actual  Predicted\n",
       "260      11     12.000\n",
       "445       9      8.875\n",
       "326      13     10.750\n",
       "27       11     11.875\n",
       "433      14     12.125"
      ]
     },
     "execution_count": 39,
     "metadata": {},
     "output_type": "execute_result"
    }
   ],
   "source": [
    "# Display the test and predicted values\n",
    "df_compare = pd.DataFrame({'Actual': y_test, 'Predicted': y_pred})\n",
    "df_compare.head()"
   ]
  },
  {
   "cell_type": "markdown",
   "id": "454c2d49-2b8b-450a-9bb1-090867d5a0be",
   "metadata": {},
   "source": [
    "# Cross Validation for KNN regression"
   ]
  },
  {
   "cell_type": "code",
   "execution_count": 40,
   "id": "ebdc690b-b70b-46e8-bcb8-83d026c41f10",
   "metadata": {},
   "outputs": [],
   "source": [
    "from sklearn.model_selection import cross_val_score"
   ]
  },
  {
   "cell_type": "code",
   "execution_count": 41,
   "id": "e0d3bde5-5a1b-4652-b249-b5f999e5a06e",
   "metadata": {},
   "outputs": [
    {
     "name": "stdout",
     "output_type": "stream",
     "text": [
      "Fold 1: R2 Score = 0.5655829041204438\n",
      "Fold 2: R2 Score = 0.6840397573130456\n",
      "Fold 3: R2 Score = 0.5377125860225054\n",
      "Fold 4: R2 Score = 0.6007035340314136\n",
      "Fold 5: R2 Score = 0.6274008801513531\n",
      "Fold 6: R2 Score = 0.8310134506957774\n",
      "Fold 7: R2 Score = 0.4536707834331337\n",
      "Fold 8: R2 Score = 0.6097182237236238\n",
      "Fold 9: R2 Score = 0.6029151943462898\n",
      "Fold 10: R2 Score = 0.6443988347457628\n",
      "\n",
      "Average R2 Score: 0.6157156148583349\n"
     ]
    }
   ],
   "source": [
    "# Perform cross-validation and get R2 scores\n",
    "cross_val_scores = cross_val_score(reg, X, y, cv=10, scoring='r2')\n",
    "\n",
    "# Print the R2 scores for each fold\n",
    "for i, score in enumerate(cross_val_scores, start=1):\n",
    "    print(f\"Fold {i}: R2 Score = {score}\")\n",
    "\n",
    "# Print the average R2 score across all folds\n",
    "average_r2 = np.mean(cross_val_scores)\n",
    "print(f\"\\nAverage R2 Score: {average_r2}\")"
   ]
  },
  {
   "cell_type": "code",
   "execution_count": null,
   "id": "9ad083c3-89ca-4991-b1e9-6b09950611d9",
   "metadata": {},
   "outputs": [],
   "source": []
  },
  {
   "cell_type": "code",
   "execution_count": null,
   "id": "1e61b527-42b1-4152-98c0-a10bdb5d28c5",
   "metadata": {},
   "outputs": [],
   "source": []
  },
  {
   "cell_type": "markdown",
   "id": "16f47665-7971-464b-a506-9c26fcbe58fa",
   "metadata": {},
   "source": [
    "# Linear regression"
   ]
  },
  {
   "cell_type": "code",
   "execution_count": 42,
   "id": "fa05f382-92f2-437a-9659-1d6aaaa76e4f",
   "metadata": {},
   "outputs": [],
   "source": [
    "import matplotlib.pyplot as plt\n",
    "import seaborn as sns\n",
    "from sklearn.linear_model import LinearRegression\n",
    "from sklearn.model_selection import train_test_split, cross_val_score"
   ]
  },
  {
   "cell_type": "code",
   "execution_count": 43,
   "id": "b5396aec-4861-42e3-b4a3-8471ef75a3bd",
   "metadata": {},
   "outputs": [],
   "source": [
    "# Train the model\n",
    "lr = LinearRegression().fit(X_train, y_train)\n",
    "\n"
   ]
  },
  {
   "cell_type": "code",
   "execution_count": 44,
   "id": "702ecce9-8429-4449-9baa-f29fd24ce5ad",
   "metadata": {},
   "outputs": [
    {
     "name": "stdout",
     "output_type": "stream",
     "text": [
      "-0.8724338613837528\n",
      "[ 0.03609716  0.04851667  0.16464872 -0.19111233  0.05262355 -0.02977078\n",
      "  0.02579065  0.05625913  0.02353441 -0.03275409 -0.02498525 -0.03050295\n",
      " -0.05027696 -0.04402563  0.0106103  -0.05028918 -0.06283596 -0.00745132\n",
      " -0.02750106 -0.64877059 -0.21117052  0.25189194  0.17540913 -0.10441081\n",
      " -0.037109   -0.0155139  -0.03124881 -0.10984684  0.0023716   0.87755692]\n"
     ]
    }
   ],
   "source": [
    "# Calculate the intercept and coefficient\n",
    "print(lr.intercept_)\n",
    "print(lr.coef_)"
   ]
  },
  {
   "cell_type": "code",
   "execution_count": 45,
   "id": "94771e6d-8c76-489d-82a6-31a5cbf6f1b7",
   "metadata": {},
   "outputs": [],
   "source": [
    "# Calculate the predicted values\n",
    "y_linear_pred = lr.predict(X_test)"
   ]
  },
  {
   "cell_type": "code",
   "execution_count": 46,
   "id": "98239764-3395-4882-971d-713ee92d44f5",
   "metadata": {},
   "outputs": [
    {
     "name": "stdout",
     "output_type": "stream",
     "text": [
      "training set score: 0.77\n",
      "test set score: 0.71\n"
     ]
    }
   ],
   "source": [
    "print(\"training set score: {:.2f}\".format(lr.score(X_train, y_train)))\n",
    "print(\"test set score: {:.2f}\".format(lr.score(X_test, y_test)))"
   ]
  },
  {
   "cell_type": "markdown",
   "id": "09a1afee-8626-442e-964e-8176deb3d2f0",
   "metadata": {},
   "source": [
    "the test and training scores it is good so is not underfitting  and the difference between the training set and the test set is not big, so we could say that is quite a sweet spot,  neither underfitting nor overfitting"
   ]
  },
  {
   "cell_type": "code",
   "execution_count": 47,
   "id": "5a604f4f-3481-4db5-8931-12033388d936",
   "metadata": {},
   "outputs": [
    {
     "data": {
      "text/html": [
       "<div>\n",
       "<style scoped>\n",
       "    .dataframe tbody tr th:only-of-type {\n",
       "        vertical-align: middle;\n",
       "    }\n",
       "\n",
       "    .dataframe tbody tr th {\n",
       "        vertical-align: top;\n",
       "    }\n",
       "\n",
       "    .dataframe thead th {\n",
       "        text-align: right;\n",
       "    }\n",
       "</style>\n",
       "<table border=\"1\" class=\"dataframe\">\n",
       "  <thead>\n",
       "    <tr style=\"text-align: right;\">\n",
       "      <th></th>\n",
       "      <th>Actual</th>\n",
       "      <th>Predicted</th>\n",
       "    </tr>\n",
       "  </thead>\n",
       "  <tbody>\n",
       "    <tr>\n",
       "      <th>260</th>\n",
       "      <td>11</td>\n",
       "      <td>11.556073</td>\n",
       "    </tr>\n",
       "    <tr>\n",
       "      <th>445</th>\n",
       "      <td>9</td>\n",
       "      <td>6.826385</td>\n",
       "    </tr>\n",
       "    <tr>\n",
       "      <th>326</th>\n",
       "      <td>13</td>\n",
       "      <td>13.202754</td>\n",
       "    </tr>\n",
       "    <tr>\n",
       "      <th>27</th>\n",
       "      <td>11</td>\n",
       "      <td>11.225629</td>\n",
       "    </tr>\n",
       "    <tr>\n",
       "      <th>433</th>\n",
       "      <td>14</td>\n",
       "      <td>11.660038</td>\n",
       "    </tr>\n",
       "  </tbody>\n",
       "</table>\n",
       "</div>"
      ],
      "text/plain": [
       "     Actual  Predicted\n",
       "260      11  11.556073\n",
       "445       9   6.826385\n",
       "326      13  13.202754\n",
       "27       11  11.225629\n",
       "433      14  11.660038"
      ]
     },
     "execution_count": 47,
     "metadata": {},
     "output_type": "execute_result"
    }
   ],
   "source": [
    "df_compare_linear = pd.DataFrame({'Actual': y_test, 'Predicted': y_linear_pred})\n",
    "df_compare_linear.head()"
   ]
  },
  {
   "cell_type": "code",
   "execution_count": 48,
   "id": "3cfaf1bc-ae90-4fd7-aa8f-d1453f632f7f",
   "metadata": {},
   "outputs": [
    {
     "name": "stdout",
     "output_type": "stream",
     "text": [
      "Mean Absolute Error: 1.039255656455124\n",
      "Mean Squared Error: 2.1612614483115538\n",
      "Root Mean Squared Error: 1.470122936461966\n"
     ]
    }
   ],
   "source": [
    "# Calculate the error values\n",
    "\n",
    "print('Mean Absolute Error:', metrics.mean_absolute_error(y_test, y_linear_pred))\n",
    "print('Mean Squared Error:', metrics.mean_squared_error(y_test, y_linear_pred))\n",
    "print('Root Mean Squared Error:', np.sqrt(metrics.mean_squared_error(y_test, y_linear_pred)))"
   ]
  },
  {
   "cell_type": "code",
   "execution_count": 49,
   "id": "a3167a15-0b9d-4f10-b837-8f199ba34add",
   "metadata": {},
   "outputs": [
    {
     "name": "stdout",
     "output_type": "stream",
     "text": [
      "Test set predictions:\n",
      "[11.55607339  6.82638549 13.20275407 11.2256285  11.6600379   8.11222842\n",
      " 13.93324247 11.52836854 11.0226278   9.07111269 11.00494064  8.78402789\n",
      "  7.61995918 11.27054249  8.75049931 10.23066706  8.45272684 11.30248865\n",
      " 10.0545373  11.09359589 10.38857506 10.39735338  9.73695203  7.94639888\n",
      " 10.60553788 10.01462205 11.78635391 12.92890415 12.37386864 13.01464299\n",
      " 17.10392983 12.10893018 13.52834032 13.22255369 11.16125584 14.64858189\n",
      "  9.89270761 11.48774891 12.71193646 13.03244171 12.28860787  9.26635742\n",
      "  5.44958684  7.49866322 10.03628208  7.3569336  13.42004026  8.72219714\n",
      "  9.23752765 11.1117644  11.22610538 10.61143053 15.11828855 11.94818402\n",
      " 13.33426745 10.43502637  7.28081623 12.8294978  14.8790336  12.73410188\n",
      " 11.19503914  8.80178838 12.10619473 12.42533233  6.76768792  8.62901422\n",
      " 14.91766787  9.73686594 11.8708671  11.17359249 11.32132178  8.69569144\n",
      " 10.17120382 12.44299963 10.99593876 14.49987916 13.94726921 14.29104589\n",
      "  9.00636734 13.52745352 15.25026307 10.20497386 11.00208478  7.54450604\n",
      " 16.08506198 10.68424695 13.6630075  11.86466411  9.71809788 14.80486586\n",
      " 16.23801252 13.45698565 13.10877468 10.16659887  7.40324214 15.78494088\n",
      "  9.06436045 15.13350996 11.21933293 14.26855009 16.48226264 12.44148677\n",
      " 10.79645218  7.15199339 11.70434488 16.74953502 11.08670169 10.19247277\n",
      " 11.33373841  9.20993406 11.03001386  6.63331917 11.75753189 12.84438143\n",
      " 12.37875658  9.1654412  16.63313119 17.06641572  9.5932114  11.27021729\n",
      " 10.86872501  7.1259197  11.81810883  9.15858461 10.72626798 10.16625997\n",
      " 13.12458679 10.88961352 10.10031998 12.11876922]\n"
     ]
    }
   ],
   "source": [
    "# Predict the results for X_test\n",
    "print(\"Test set predictions:\\n{}\".format(lr.predict(X_test)))"
   ]
  },
  {
   "cell_type": "code",
   "execution_count": 50,
   "id": "43259d5a-ac74-49cc-a90c-32e2f865841a",
   "metadata": {},
   "outputs": [
    {
     "name": "stdout",
     "output_type": "stream",
     "text": [
      "Test set R^2: 0.71\n"
     ]
    }
   ],
   "source": [
    "# Calculate the R^2 score\n",
    "print(\"Test set R^2: {:.2f}\".format(lr.score(X_test, y_test)))"
   ]
  },
  {
   "cell_type": "markdown",
   "id": "5a9ca14b-2f6b-4df2-861d-d5665a4f36b4",
   "metadata": {
    "jp-MarkdownHeadingCollapsed": true
   },
   "source": [
    "# Cross validation linear regression model"
   ]
  },
  {
   "cell_type": "code",
   "execution_count": 51,
   "id": "b400f36b-8014-4413-a1b2-57b0f77c6747",
   "metadata": {},
   "outputs": [],
   "source": [
    "from sklearn.model_selection import cross_val_score"
   ]
  },
  {
   "cell_type": "code",
   "execution_count": 52,
   "id": "3f39d73e-e3b6-4c92-9e2b-10b44f9a3123",
   "metadata": {},
   "outputs": [
    {
     "name": "stdout",
     "output_type": "stream",
     "text": [
      "Fold 1: R2 Score = 0.16725207339892045\n",
      "Fold 2: R2 Score = 0.6908403326163949\n",
      "Fold 3: R2 Score = 0.7070304957007175\n",
      "Fold 4: R2 Score = 0.7751468247760411\n",
      "Fold 5: R2 Score = 0.7683243656817145\n",
      "Fold 6: R2 Score = 0.9026993254334268\n",
      "Fold 7: R2 Score = 0.5943704929941822\n",
      "Fold 8: R2 Score = 0.6670709299743907\n",
      "Fold 9: R2 Score = 0.5670602206901101\n",
      "Fold 10: R2 Score = 0.7159096531048528\n",
      "\n",
      "Average R2 Score: 0.6555704714370751\n"
     ]
    }
   ],
   "source": [
    "# Perform cross-validation and get R2 scores\n",
    "cross_val_scores = cross_val_score(lr, X, y, cv=10, scoring='r2')\n",
    "\n",
    "# Print the R2 scores for each fold\n",
    "for i, score in enumerate(cross_val_scores, start=1):\n",
    "    print(f\"Fold {i}: R2 Score = {score}\")\n",
    "\n",
    "# Print the average R2 score across all folds\n",
    "average_r2 = np.mean(cross_val_scores)\n",
    "print(f\"\\nAverage R2 Score: {average_r2}\")"
   ]
  },
  {
   "cell_type": "markdown",
   "id": "12292961-04ee-4c2e-85bf-1d190c758a45",
   "metadata": {
    "jp-MarkdownHeadingCollapsed": true
   },
   "source": [
    "# Random Forest"
   ]
  },
  {
   "cell_type": "code",
   "execution_count": 53,
   "id": "0fc102b3-26c9-47b3-a7f6-7d35ab8d6f49",
   "metadata": {},
   "outputs": [],
   "source": [
    "\n",
    "from sklearn.tree import DecisionTreeRegressor\n",
    "from sklearn import tree\n",
    "from sklearn.pipeline import Pipeline\n",
    "from sklearn.model_selection import GridSearchCV, train_test_split\n",
    "from sklearn.feature_selection import SelectKBest\n",
    "import time\n",
    "\n"
   ]
  },
  {
   "cell_type": "code",
   "execution_count": 54,
   "id": "1d790988-9c41-44e1-b380-f8cbc442b9ae",
   "metadata": {},
   "outputs": [],
   "source": [
    "#Import Random Forest Model\n",
    "from sklearn.ensemble import RandomForestRegressor\n"
   ]
  },
  {
   "cell_type": "markdown",
   "id": "343a15ff-ce35-4647-9bfe-6eb066d2dccf",
   "metadata": {
    "jp-MarkdownHeadingCollapsed": true
   },
   "source": [
    "# Hyper parameters tunning"
   ]
  },
  {
   "cell_type": "code",
   "execution_count": 57,
   "id": "e2efe855-b38a-49af-84f2-2bb09e239d7a",
   "metadata": {},
   "outputs": [
    {
     "name": "stdout",
     "output_type": "stream",
     "text": [
      "Code Execution Time:  288.93833231925964\n"
     ]
    }
   ],
   "source": [
    "feature_threshold = 3\n",
    "start = time.time()\n",
    "grid = { \n",
    "    'regressor__n_estimators': [200,300,400,300,500,600,700],\n",
    "    'regressor__max_features': ['sqrt'],\n",
    "    'regressor__max_depth' : list(range(3,10)),\n",
    "    'regressor__random_state' : [42]\n",
    "}\n",
    "\n",
    "pipeline = Pipeline([\n",
    "    ('feature_selection', SelectKBest(k=feature_threshold)),\n",
    "    ('regressor', RandomForestRegressor())\n",
    "])\n",
    "CV_rfr_top = GridSearchCV(pipeline, param_grid=grid, cv=5)\n",
    "CV_rfr_top.fit(X_train, y_train)\n",
    "end = time.time()\n",
    "print(\"Code Execution Time: \", end - start)"
   ]
  },
  {
   "cell_type": "code",
   "execution_count": 60,
   "id": "a8a47e79-e95b-4df4-a6f1-30d90083c28c",
   "metadata": {},
   "outputs": [
    {
     "data": {
      "text/plain": [
       "({'regressor__max_depth': 9,\n",
       "  'regressor__max_features': 'sqrt',\n",
       "  'regressor__n_estimators': 200,\n",
       "  'regressor__random_state': 42},\n",
       " 0.7416284600384033)"
      ]
     },
     "execution_count": 60,
     "metadata": {},
     "output_type": "execute_result"
    }
   ],
   "source": [
    "best_params = CV_rfr_top.best_params_\n",
    "best_model_reg_rf = CV_rfr_top.best_estimator_\n",
    "best_score = CV_rfr_top.best_score_\n",
    "\n",
    "best_model_reg_rf.fit(X_train, y_train)\n",
    "best_params, best_score"
   ]
  },
  {
   "cell_type": "code",
   "execution_count": 61,
   "id": "e3784250-8b2b-4a7b-8147-ca3976c4afa4",
   "metadata": {},
   "outputs": [
    {
     "data": {
      "text/html": [
       "<style>#sk-container-id-2 {color: black;background-color: white;}#sk-container-id-2 pre{padding: 0;}#sk-container-id-2 div.sk-toggleable {background-color: white;}#sk-container-id-2 label.sk-toggleable__label {cursor: pointer;display: block;width: 100%;margin-bottom: 0;padding: 0.3em;box-sizing: border-box;text-align: center;}#sk-container-id-2 label.sk-toggleable__label-arrow:before {content: \"▸\";float: left;margin-right: 0.25em;color: #696969;}#sk-container-id-2 label.sk-toggleable__label-arrow:hover:before {color: black;}#sk-container-id-2 div.sk-estimator:hover label.sk-toggleable__label-arrow:before {color: black;}#sk-container-id-2 div.sk-toggleable__content {max-height: 0;max-width: 0;overflow: hidden;text-align: left;background-color: #f0f8ff;}#sk-container-id-2 div.sk-toggleable__content pre {margin: 0.2em;color: black;border-radius: 0.25em;background-color: #f0f8ff;}#sk-container-id-2 input.sk-toggleable__control:checked~div.sk-toggleable__content {max-height: 200px;max-width: 100%;overflow: auto;}#sk-container-id-2 input.sk-toggleable__control:checked~label.sk-toggleable__label-arrow:before {content: \"▾\";}#sk-container-id-2 div.sk-estimator input.sk-toggleable__control:checked~label.sk-toggleable__label {background-color: #d4ebff;}#sk-container-id-2 div.sk-label input.sk-toggleable__control:checked~label.sk-toggleable__label {background-color: #d4ebff;}#sk-container-id-2 input.sk-hidden--visually {border: 0;clip: rect(1px 1px 1px 1px);clip: rect(1px, 1px, 1px, 1px);height: 1px;margin: -1px;overflow: hidden;padding: 0;position: absolute;width: 1px;}#sk-container-id-2 div.sk-estimator {font-family: monospace;background-color: #f0f8ff;border: 1px dotted black;border-radius: 0.25em;box-sizing: border-box;margin-bottom: 0.5em;}#sk-container-id-2 div.sk-estimator:hover {background-color: #d4ebff;}#sk-container-id-2 div.sk-parallel-item::after {content: \"\";width: 100%;border-bottom: 1px solid gray;flex-grow: 1;}#sk-container-id-2 div.sk-label:hover label.sk-toggleable__label {background-color: #d4ebff;}#sk-container-id-2 div.sk-serial::before {content: \"\";position: absolute;border-left: 1px solid gray;box-sizing: border-box;top: 0;bottom: 0;left: 50%;z-index: 0;}#sk-container-id-2 div.sk-serial {display: flex;flex-direction: column;align-items: center;background-color: white;padding-right: 0.2em;padding-left: 0.2em;position: relative;}#sk-container-id-2 div.sk-item {position: relative;z-index: 1;}#sk-container-id-2 div.sk-parallel {display: flex;align-items: stretch;justify-content: center;background-color: white;position: relative;}#sk-container-id-2 div.sk-item::before, #sk-container-id-2 div.sk-parallel-item::before {content: \"\";position: absolute;border-left: 1px solid gray;box-sizing: border-box;top: 0;bottom: 0;left: 50%;z-index: -1;}#sk-container-id-2 div.sk-parallel-item {display: flex;flex-direction: column;z-index: 1;position: relative;background-color: white;}#sk-container-id-2 div.sk-parallel-item:first-child::after {align-self: flex-end;width: 50%;}#sk-container-id-2 div.sk-parallel-item:last-child::after {align-self: flex-start;width: 50%;}#sk-container-id-2 div.sk-parallel-item:only-child::after {width: 0;}#sk-container-id-2 div.sk-dashed-wrapped {border: 1px dashed gray;margin: 0 0.4em 0.5em 0.4em;box-sizing: border-box;padding-bottom: 0.4em;background-color: white;}#sk-container-id-2 div.sk-label label {font-family: monospace;font-weight: bold;display: inline-block;line-height: 1.2em;}#sk-container-id-2 div.sk-label-container {text-align: center;}#sk-container-id-2 div.sk-container {/* jupyter's `normalize.less` sets `[hidden] { display: none; }` but bootstrap.min.css set `[hidden] { display: none !important; }` so we also need the `!important` here to be able to override the default hidden behavior on the sphinx rendered scikit-learn.org. See: https://github.com/scikit-learn/scikit-learn/issues/21755 */display: inline-block !important;position: relative;}#sk-container-id-2 div.sk-text-repr-fallback {display: none;}</style><div id=\"sk-container-id-2\" class=\"sk-top-container\"><div class=\"sk-text-repr-fallback\"><pre>Pipeline(steps=[(&#x27;feature_selection&#x27;, SelectKBest(k=3)),\n",
       "                (&#x27;regressor&#x27;,\n",
       "                 RandomForestRegressor(max_depth=9, max_features=&#x27;sqrt&#x27;,\n",
       "                                       n_estimators=200, random_state=42))])</pre><b>In a Jupyter environment, please rerun this cell to show the HTML representation or trust the notebook. <br />On GitHub, the HTML representation is unable to render, please try loading this page with nbviewer.org.</b></div><div class=\"sk-container\" hidden><div class=\"sk-item sk-dashed-wrapped\"><div class=\"sk-label-container\"><div class=\"sk-label sk-toggleable\"><input class=\"sk-toggleable__control sk-hidden--visually\" id=\"sk-estimator-id-2\" type=\"checkbox\" ><label for=\"sk-estimator-id-2\" class=\"sk-toggleable__label sk-toggleable__label-arrow\">Pipeline</label><div class=\"sk-toggleable__content\"><pre>Pipeline(steps=[(&#x27;feature_selection&#x27;, SelectKBest(k=3)),\n",
       "                (&#x27;regressor&#x27;,\n",
       "                 RandomForestRegressor(max_depth=9, max_features=&#x27;sqrt&#x27;,\n",
       "                                       n_estimators=200, random_state=42))])</pre></div></div></div><div class=\"sk-serial\"><div class=\"sk-item\"><div class=\"sk-estimator sk-toggleable\"><input class=\"sk-toggleable__control sk-hidden--visually\" id=\"sk-estimator-id-3\" type=\"checkbox\" ><label for=\"sk-estimator-id-3\" class=\"sk-toggleable__label sk-toggleable__label-arrow\">SelectKBest</label><div class=\"sk-toggleable__content\"><pre>SelectKBest(k=3)</pre></div></div></div><div class=\"sk-item\"><div class=\"sk-estimator sk-toggleable\"><input class=\"sk-toggleable__control sk-hidden--visually\" id=\"sk-estimator-id-4\" type=\"checkbox\" ><label for=\"sk-estimator-id-4\" class=\"sk-toggleable__label sk-toggleable__label-arrow\">RandomForestRegressor</label><div class=\"sk-toggleable__content\"><pre>RandomForestRegressor(max_depth=9, max_features=&#x27;sqrt&#x27;, n_estimators=200,\n",
       "                      random_state=42)</pre></div></div></div></div></div></div></div>"
      ],
      "text/plain": [
       "Pipeline(steps=[('feature_selection', SelectKBest(k=3)),\n",
       "                ('regressor',\n",
       "                 RandomForestRegressor(max_depth=9, max_features='sqrt',\n",
       "                                       n_estimators=200, random_state=42))])"
      ]
     },
     "execution_count": 61,
     "metadata": {},
     "output_type": "execute_result"
    }
   ],
   "source": [
    "#Train the model using the training sets y_pred=clf.predict(X_test)\n",
    "\n",
    "best_model_reg_rf.fit(X_train, y_train)"
   ]
  },
  {
   "cell_type": "code",
   "execution_count": 62,
   "id": "41def25c-4ac5-462b-9a0a-49ff8f641d43",
   "metadata": {},
   "outputs": [],
   "source": [
    "y_randomfores_pred = best_model_reg_rf.predict(X_test)"
   ]
  },
  {
   "cell_type": "code",
   "execution_count": 63,
   "id": "3294754c-3811-448b-9c46-4ad7550b4f45",
   "metadata": {},
   "outputs": [
    {
     "name": "stdout",
     "output_type": "stream",
     "text": [
      "Mean Absolute Error: 1.041429146856789\n",
      "Mean Squared Error: 2.1805408629197824\n",
      "Root Mean Squared Error: 1.4766654539603012\n"
     ]
    }
   ],
   "source": [
    "# Calculate the error values\n",
    "\n",
    "print('Mean Absolute Error:', metrics.mean_absolute_error(y_test, y_randomfores_pred))\n",
    "print('Mean Squared Error:', metrics.mean_squared_error(y_test, y_randomfores_pred))\n",
    "print('Root Mean Squared Error:', np.sqrt(metrics.mean_squared_error(y_test, y_randomfores_pred)))"
   ]
  },
  {
   "cell_type": "code",
   "execution_count": 64,
   "id": "ede3c841-3fa7-4a44-ad2c-12c1a695cb79",
   "metadata": {},
   "outputs": [
    {
     "name": "stdout",
     "output_type": "stream",
     "text": [
      "Test set R^2: 0.71\n"
     ]
    }
   ],
   "source": [
    "# Calculate the R^2 score\n",
    "print(\"Test set R^2: {:.2f}\".format(best_model_reg_rf.score(X_test, y_test)))"
   ]
  },
  {
   "cell_type": "code",
   "execution_count": 65,
   "id": "59fc295d-14fd-4769-b840-871ca739c418",
   "metadata": {},
   "outputs": [
    {
     "name": "stdout",
     "output_type": "stream",
     "text": [
      "training set score: 0.80\n",
      "test set score: 0.71\n"
     ]
    }
   ],
   "source": [
    "print(\"training set score: {:.2f}\".format(best_model_reg_rf.score(X_train, y_train)))\n",
    "print(\"test set score: {:.2f}\".format(best_model_reg_rf.score(X_test, y_test)))"
   ]
  },
  {
   "cell_type": "markdown",
   "id": "ab7a371b-86f2-497b-9133-471fa1b007ff",
   "metadata": {
    "jp-MarkdownHeadingCollapsed": true
   },
   "source": [
    "# Cross validation for Random Forest"
   ]
  },
  {
   "cell_type": "code",
   "execution_count": 67,
   "id": "6d041886-b056-4b21-8320-e56fdeef80d3",
   "metadata": {},
   "outputs": [
    {
     "name": "stdout",
     "output_type": "stream",
     "text": [
      "Fold 1: R2 Score = 0.6419119721802866\n",
      "Fold 2: R2 Score = 0.677819409929237\n",
      "Fold 3: R2 Score = 0.7052430009517598\n",
      "Fold 4: R2 Score = 0.8394453205916038\n",
      "Fold 5: R2 Score = 0.8063200810223439\n",
      "Fold 6: R2 Score = 0.9079512239235886\n",
      "Fold 7: R2 Score = 0.5940681471357936\n",
      "Fold 8: R2 Score = 0.6407564076028132\n",
      "Fold 9: R2 Score = 0.5184519922783437\n",
      "Fold 10: R2 Score = 0.7130155804704855\n",
      "\n",
      "Average R2 Score: 0.7044983136086256\n"
     ]
    }
   ],
   "source": [
    "# Perform cross-validation and get R2 scores\n",
    "cross_val_scores = cross_val_score(best_model_reg_rf, X, y, cv=10, scoring='r2')\n",
    "\n",
    "# Print the R2 scores for each fold\n",
    "for i, score in enumerate(cross_val_scores, start=1):\n",
    "    print(f\"Fold {i}: R2 Score = {score}\")\n",
    "\n",
    "# Print the average R2 score across all folds\n",
    "average_r2 = np.mean(cross_val_scores)\n",
    "print(f\"\\nAverage R2 Score: {average_r2}\")"
   ]
  },
  {
   "cell_type": "markdown",
   "id": "43475248-bea4-445c-a627-8f798ec7dc54",
   "metadata": {
    "jp-MarkdownHeadingCollapsed": true
   },
   "source": [
    "# Comparison the 3 models' scores with 20% splitting "
   ]
  },
  {
   "cell_type": "markdown",
   "id": "9a20548f-1273-4003-aea8-244ce421e28e",
   "metadata": {},
   "source": [
    "comparison of the model using the training data and test data"
   ]
  },
  {
   "cell_type": "code",
   "execution_count": 68,
   "id": "b109c138-6b1c-4a9b-8490-b1d680579fbd",
   "metadata": {},
   "outputs": [
    {
     "name": "stdout",
     "output_type": "stream",
     "text": [
      "training set score random forest: 0.80\n",
      "test set score random forest: 0.71\n",
      "training set score lineal regression: 0.77\n",
      "test set score lineal regression: 0.71\n",
      "training set score: 0.76\n",
      "test set score: 0.65\n"
     ]
    }
   ],
   "source": [
    "print(\"training set score random forest: {:.2f}\".format(best_model_reg_rf.score(X_train, y_train)))\n",
    "print(\"test set score random forest: {:.2f}\".format(best_model_reg_rf.score(X_test, y_test)))\n",
    "print(\"training set score lineal regression: {:.2f}\".format(lr.score(X_train, y_train)))\n",
    "print(\"test set score lineal regression: {:.2f}\".format(lr.score(X_test, y_test)))\n",
    "print(\"training set score: {:.2f}\".format(reg.score(X_train, y_train)))\n",
    "print(\"test set score: {:.2f}\".format(reg.score(X_test, y_test)))"
   ]
  },
  {
   "cell_type": "code",
   "execution_count": null,
   "id": "5ddc2181-d46f-400f-8514-28ec92ba78df",
   "metadata": {},
   "outputs": [],
   "source": []
  }
 ],
 "metadata": {
  "kernelspec": {
   "display_name": "Python 3 (ipykernel)",
   "language": "python",
   "name": "python3"
  },
  "language_info": {
   "codemirror_mode": {
    "name": "ipython",
    "version": 3
   },
   "file_extension": ".py",
   "mimetype": "text/x-python",
   "name": "python",
   "nbconvert_exporter": "python",
   "pygments_lexer": "ipython3",
   "version": "3.11.7"
  }
 },
 "nbformat": 4,
 "nbformat_minor": 5
}
